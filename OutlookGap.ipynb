{
 "cells": [
  {
   "cell_type": "code",
   "execution_count": null,
   "id": "d7ecab29-ad36-4f44-ac42-cac9bc1f84fb",
   "metadata": {
    "editable": false
   },
   "outputs": [],
   "source": [
    "# This cell is NOT editable. Overwrite variables on your own discretion.\n",
    "# Any changes other than the script code will NOT BE SAVED!\n",
    "# All cells are assumed to be script code cells, unless explictly tagged as 'o9_ignore'"
   ]
  },
  {
   "cell_type": "code",
   "execution_count": 6,
   "id": "a676c3cb-58cb-436b-9f3d-f84be6a85af7",
   "metadata": {
    "tags": [
     "o9_ignore"
    ]
   },
   "outputs": [],
   "source": [
    "_PlanningMeasuresData = \"select ([Version].[Version Name] * [Product].[SKU] * [Customer].[Account] * &PlanningMonths) on row, ({Measure.[Sell Out Outlook], Measure.[Budget], Measure.[Outlook Gap]}) on column;\"\n",
    "\n",
    "\n",
    "# Initialize the O9DataLake with the input parameters and dataframes\n",
    "# Data can be accessed with O9DataLake.get(<Input Name>)\n",
    "# Overwritten values will not be reflected in the O9DataLake after initialization\n",
    "\n",
    "from o9_common_utils.O9DataLake import O9DataLake, ResourceType, DataSource\n",
    "PM_df = O9DataLake.register(\"PlanningMeasuresData\",DataSource.LS, ResourceType.IBPL, _PlanningMeasuresData)"
   ]
  },
  {
   "cell_type": "code",
   "execution_count": 7,
   "id": "d4421d47-b1e2-4b2a-a4de-ae9f7d93db49",
   "metadata": {},
   "outputs": [],
   "source": [
    "# import"
   ]
  },
  {
   "cell_type": "code",
   "execution_count": 8,
   "id": "9917a7a8-1d79-4c70-be4c-fde8d4ab035d",
   "metadata": {},
   "outputs": [],
   "source": [
    "import logging\n",
    "import os\n",
    "import pandas as pd\n",
    "from o9_common_utils.O9DataLake import O9DataLake"
   ]
  },
  {
   "cell_type": "code",
   "execution_count": 9,
   "id": "216a47be-d898-4859-b36b-e57efe1ac96d",
   "metadata": {},
   "outputs": [],
   "source": [
    "# get data and test logger"
   ]
  },
  {
   "cell_type": "code",
   "execution_count": 10,
   "id": "4533c54b-5dd8-490c-9059-67eca0208233",
   "metadata": {},
   "outputs": [
    {
     "name": "stdout",
     "output_type": "stream",
     "text": [
      "  Version.[Version Name] Product.[SKU] Customer.[Account] Time.[Month]  \\\n",
      "0     CurrentWorkingView        Crunch               SAMS       21-Jan   \n",
      "1     CurrentWorkingView        Gerber               SAMS       21-Jan   \n",
      "2     CurrentWorkingView        KitKat               SAMS       21-Jan   \n",
      "3     CurrentWorkingView          Milo               SAMS       21-Jan   \n",
      "4     CurrentWorkingView        Nestea               SAMS       21-Jan   \n",
      "\n",
      "   Sell Out Outlook  Budget  Outlook Gap  \n",
      "0            1487.0  1982.0       -495.0  \n",
      "1            1312.0  2032.0       -720.0  \n",
      "2            1471.0  1884.0       -413.0  \n",
      "3            1618.0  2114.0       -496.0  \n",
      "4            1565.0  2525.0       -960.0  \n"
     ]
    }
   ],
   "source": [
    "# planning_measures = O9DataLake.get('PlanningMeasuresData')\n",
    "# logger = logging.getLogger('o9_logger')\n",
    "# logger.info(\"This is Master Data\")\n",
    "# logger.info(planning_measures.head())\n",
    "\n",
    "print(PM_df.head())\n"
   ]
  },
  {
   "cell_type": "code",
   "execution_count": 11,
   "id": "be1228d0-5d96-4050-ae04-ce5e47881e77",
   "metadata": {},
   "outputs": [],
   "source": [
    "# define function"
   ]
  },
  {
   "cell_type": "code",
   "execution_count": 12,
   "id": "3444db22-c726-4848-a920-25bd368500f6",
   "metadata": {},
   "outputs": [],
   "source": [
    "def subtract(a, b):\n",
    "    \"\"\"\n",
    "    Subtracts two variables and returns the result.\n",
    "    \n",
    "    Arguments:\n",
    "    a -- First variable\n",
    "    b -- Second variable\n",
    "    \n",
    "    Returns:\n",
    "    The difference of a and b\n",
    "    \"\"\"\n",
    "    return a - b"
   ]
  },
  {
   "cell_type": "code",
   "execution_count": 13,
   "id": "420711b4-8372-4b28-acb5-06035ba65246",
   "metadata": {},
   "outputs": [],
   "source": [
    "# main"
   ]
  },
  {
   "cell_type": "code",
   "execution_count": 18,
   "id": "159837ae-ae8c-41cb-8fe3-989a8d5a68cc",
   "metadata": {},
   "outputs": [
    {
     "name": "stdout",
     "output_type": "stream",
     "text": [
      "PM_df:\n",
      "Index(['Version.[Version Name]', 'Product.[SKU]', 'Customer.[Account]',\n",
      "       'Time.[Month]', 'Sell Out Outlook', 'Budget', 'Outlook Gap'],\n",
      "      dtype='object')\n",
      "  Version.[Version Name] Product.[SKU] Customer.[Account] Time.[Month]  \\\n",
      "0     CurrentWorkingView        Crunch               SAMS       21-Jan   \n",
      "1     CurrentWorkingView        Gerber               SAMS       21-Jan   \n",
      "2     CurrentWorkingView        KitKat               SAMS       21-Jan   \n",
      "3     CurrentWorkingView          Milo               SAMS       21-Jan   \n",
      "4     CurrentWorkingView        Nestea               SAMS       21-Jan   \n",
      "\n",
      "   Sell Out Outlook  Budget  Outlook Gap  \n",
      "0            1487.0  1982.0       -495.0  \n",
      "1            1312.0  2032.0       -720.0  \n",
      "2            1471.0  1884.0       -413.0  \n",
      "3            1618.0  2114.0       -496.0  \n",
      "4            1565.0  2525.0       -960.0  \n",
      "Version.[Version Name]    0\n",
      "Product.[SKU]             0\n",
      "Customer.[Account]        0\n",
      "Time.[Month]              0\n",
      "Sell Out Outlook          0\n",
      "Budget                    0\n",
      "Outlook Gap               0\n",
      "dtype: int64\n"
     ]
    }
   ],
   "source": [
    "PM_df[\"Outlook Gap\"] = PM_df.apply(lambda row: subtract(row['Sell Out Outlook'], row['Budget']), axis=1)\n",
    "logger.info(print(\"PM_df:\"))\n",
    "logger.info(print(PM_df.columns))\n",
    "logger.info(print(PM_df.head()))\n",
    "logger.info(print(PM_df.isna().sum()))"
   ]
  },
  {
   "cell_type": "code",
   "execution_count": null,
   "id": "c14c963f-441a-4cf0-b0da-f16dc83da45b",
   "metadata": {},
   "outputs": [],
   "source": [
    "O9DataLake.put(\"PM_df\",)"
   ]
  }
 ],
 "metadata": {
  "kernelspec": {
   "display_name": "[JTesting] Tenant Conda Environment",
   "language": "python",
   "name": "local_jtesting"
  },
  "language_info": {
   "codemirror_mode": {
    "name": "ipython",
    "version": 3
   },
   "file_extension": ".py",
   "mimetype": "text/x-python",
   "name": "python",
   "nbconvert_exporter": "python",
   "pygments_lexer": "ipython3",
   "version": "3.7.10"
  },
  "notebook_dict": {
   "ClassName": "o9.GraphCube.Plugins.Python.PythonScript",
   "InstanceName": "OutlookGap",
   "SliceKeys": [],
   "file_path": "loaded_notebooks/OutlookGap.ipynb",
   "o9_selected_plugin_id": 475469
  }
 },
 "nbformat": 4,
 "nbformat_minor": 5
}
